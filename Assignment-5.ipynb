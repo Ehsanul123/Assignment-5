{
 "cells": [
  {
   "cell_type": "code",
   "execution_count": 1,
   "id": "ff3d1fc1",
   "metadata": {},
   "outputs": [],
   "source": [
    "#1:\n",
    "emptyDict = {}"
   ]
  },
  {
   "cell_type": "code",
   "execution_count": 3,
   "id": "4a2ed326",
   "metadata": {},
   "outputs": [
    {
     "name": "stdout",
     "output_type": "stream",
     "text": [
      "<class 'dict'>\n"
     ]
    }
   ],
   "source": [
    "print(type(emptyDict))"
   ]
  },
  {
   "cell_type": "code",
   "execution_count": 4,
   "id": "3a5a1199",
   "metadata": {},
   "outputs": [],
   "source": [
    "#2:\n",
    "d={'foo':42}"
   ]
  },
  {
   "cell_type": "code",
   "execution_count": 5,
   "id": "08745cc5",
   "metadata": {},
   "outputs": [
    {
     "data": {
      "text/plain": [
       "{'foo': 42}"
      ]
     },
     "execution_count": 5,
     "metadata": {},
     "output_type": "execute_result"
    }
   ],
   "source": [
    "d"
   ]
  },
  {
   "cell_type": "code",
   "execution_count": 6,
   "id": "90e3f5d9",
   "metadata": {},
   "outputs": [],
   "source": [
    "#3:\n",
    "Lists are just like the arrays.It is the collection of Integers, Strings,dict,typle and may more.\n",
    "l=[2,3,4,5,\"iNeuron\",{2,3,4}]\n",
    "Dict is just collection of pair of keys and values pair.\n",
    "d={\"k1\":\"ineuron\"}"
   ]
  },
  {
   "cell_type": "code",
   "execution_count": 7,
   "id": "e6467669",
   "metadata": {},
   "outputs": [
    {
     "data": {
      "text/plain": [
       "[2, 3, 4, 5, 'iNeuron', {2, 3, 4}]"
      ]
     },
     "execution_count": 7,
     "metadata": {},
     "output_type": "execute_result"
    }
   ],
   "source": [
    "l"
   ]
  },
  {
   "cell_type": "code",
   "execution_count": 8,
   "id": "18ab4e2c",
   "metadata": {},
   "outputs": [
    {
     "data": {
      "text/plain": [
       "{'k1': 'ineuron'}"
      ]
     },
     "execution_count": 8,
     "metadata": {},
     "output_type": "execute_result"
    }
   ],
   "source": [
    "d"
   ]
  },
  {
   "cell_type": "code",
   "execution_count": 10,
   "id": "a9c817b5",
   "metadata": {},
   "outputs": [],
   "source": [
    "#4:\n",
    "It will display the trackback error.\n",
    "d={'bars': 100}"
   ]
  },
  {
   "cell_type": "code",
   "execution_count": 11,
   "id": "72566d0b",
   "metadata": {},
   "outputs": [
    {
     "ename": "KeyError",
     "evalue": "'spam'",
     "output_type": "error",
     "traceback": [
      "\u001b[1;31m---------------------------------------------------------------------------\u001b[0m",
      "\u001b[1;31mKeyError\u001b[0m                                  Traceback (most recent call last)",
      "\u001b[1;32m~\\AppData\\Local\\Temp/ipykernel_7000/2092558711.py\u001b[0m in \u001b[0;36m<module>\u001b[1;34m\u001b[0m\n\u001b[1;32m----> 1\u001b[1;33m \u001b[0md\u001b[0m\u001b[1;33m[\u001b[0m\u001b[1;34m'spam'\u001b[0m\u001b[1;33m]\u001b[0m\u001b[1;33m\u001b[0m\u001b[1;33m\u001b[0m\u001b[0m\n\u001b[0m",
      "\u001b[1;31mKeyError\u001b[0m: 'spam'"
     ]
    }
   ],
   "source": [
    "d['spam']"
   ]
  },
  {
   "cell_type": "code",
   "execution_count": null,
   "id": "2422b220",
   "metadata": {},
   "outputs": [],
   "source": [
    "#5:\n",
    "'cat' in spam checks whether there is a 'cat' key in the dictionary, while 'cat' in spam. values()\n",
    "checks whether there is a value 'cat' for one of the keys in spam.\n"
   ]
  },
  {
   "cell_type": "code",
   "execution_count": null,
   "id": "29d01032",
   "metadata": {},
   "outputs": [],
   "source": [
    "#6:\n",
    "'cat' in spam checks whether there is a 'cat' key in the dictionary, while 'cat' in spam. values()\n",
    "checks whether there is a value 'cat' for one of the keys in spam."
   ]
  },
  {
   "cell_type": "code",
   "execution_count": 20,
   "id": "e96fe31d",
   "metadata": {},
   "outputs": [],
   "source": [
    "#7:\n",
    "spam.setdefault('color','black')"
   ]
  },
  {
   "cell_type": "code",
   "execution_count": 31,
   "id": "e0ea1544",
   "metadata": {},
   "outputs": [],
   "source": [
    "#8:\n",
    "The module is pprint.\n",
    "The functions are pprint.pprint() and pprint.pformat()."
   ]
  }
 ],
 "metadata": {
  "kernelspec": {
   "display_name": "Python 3 (ipykernel)",
   "language": "python",
   "name": "python3"
  },
  "language_info": {
   "codemirror_mode": {
    "name": "ipython",
    "version": 3
   },
   "file_extension": ".py",
   "mimetype": "text/x-python",
   "name": "python",
   "nbconvert_exporter": "python",
   "pygments_lexer": "ipython3",
   "version": "3.9.7"
  }
 },
 "nbformat": 4,
 "nbformat_minor": 5
}
